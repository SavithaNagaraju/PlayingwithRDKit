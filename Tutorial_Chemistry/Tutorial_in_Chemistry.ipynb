{
 "cells": [
  {
   "cell_type": "code",
   "execution_count": 5,
   "metadata": {},
   "outputs": [],
   "source": [
    "%matplotlib inline\n",
    "\n",
    "import numpy as np\n",
    "import pandas as pd\n",
    "import matplotlib.pyplot as plt"
   ]
  },
  {
   "cell_type": "markdown",
   "metadata": {},
   "source": [
    "The data on lipophilicity of small organic molecules\n",
    "\n",
    "Lipophilicity is a physical property of a substance that refers to an ability of a chemical compound to dissolve lipids, oils and generally non-polar solvents.\\\n",
    "\n",
    "It's usually evaluated by a distribution coefficient P - the ratio of concentrations of a particular compound in a mixture of two immiscible phases at equilibrium. The greater P values refer to greater lipophilicity.\\\n",
    "\n",
    "The greater P values refer to greater lipophilicity. Usually lipophilicity is presented as log10P like in our dataset. Usually lipophilicity is presented as log10P like in our dataset."
   ]
  },
  {
   "cell_type": "markdown",
   "metadata": {},
   "source": [
    "*Chemical insights: from theory P value must turn great when a molecule is large and doesn't have many polar atoms or atomic groups (such containing O, N, P, S, Br, Cl, F an etc.) in it*"
   ]
  },
  {
   "cell_type": "code",
   "execution_count": null,
   "metadata": {},
   "outputs": [],
   "source": []
  }
 ],
 "metadata": {
  "kernelspec": {
   "display_name": "Python 3",
   "language": "python",
   "name": "python3"
  },
  "language_info": {
   "codemirror_mode": {
    "name": "ipython",
    "version": 3
   },
   "file_extension": ".py",
   "mimetype": "text/x-python",
   "name": "python",
   "nbconvert_exporter": "python",
   "pygments_lexer": "ipython3",
   "version": "3.7.4"
  }
 },
 "nbformat": 4,
 "nbformat_minor": 1
}
